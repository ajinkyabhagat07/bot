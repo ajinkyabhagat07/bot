from selenium import webdriver
import undetected_chromedriver as uc
from selenium.webdriver.common.by import By
from selenium.webdriver.chrome.options import Options
from selenium.webdriver.common.action_chains import ActionChains
from selenium.webdriver.support.ui import WebDriverWait
from selenium.webdriver.support import expected_conditions as EC

# Function to click elements efficiently with proper wait
def click_element(undetected_driver, xpath, wait_time=5):
    try:
        element = WebDriverWait(undetected_driver, wait_time).until(
            EC.element_to_be_clickable((By.XPATH, xpath))
        )
        undetected_driver.execute_script("arguments[0].click();", element)
        print(f"✅ Clicked element with XPath: {xpath}")
    except Exception as e:
        print(f"❌ Error clicking element with XPath {xpath}: {e}")
        return False  # Return False if click failed
    return True  # Return True if click succeeded

# PART 1: Open the URL and click the state button
def first_part(undetected_driver, url):
    # Open the URL
    undetected_driver.get(url)
    
    # Click state button
    click_element(undetected_driver, '//*[@id="modal-root"]/div/div/div/div[3]/ul/li[1]/div/div')

# PART 2: Continue actions (Book, Select Seat, etc.)
def second_part(undetected_driver):
    actions = ActionChains(undetected_driver)
    
    # Repeat the following actions until the last step
    while True:
        # Click Book button
        if not click_element(undetected_driver, '//*[@id="synopsis-book-button"]'):
            continue  # If Book button fails, continue retrying without reloading the page

        # Select seat
        if not click_element(undetected_driver, '//*[@id="super-container"]/div/div[4]/div[1]/div[2]/div[4]'):
            undetected_driver.get(url)  # Refresh the page if the click failed at the seat selection
            print("❌ Seat selection failed. Reloading...")
            continue  # Restart from the Book button

        # Click Continue button
        if not click_element(undetected_driver, '//*[@id="uper-container"]/div/div[4]/div[2]/div'):
            undetected_driver.get(url)  # Refresh the page if the click failed at Continue button
            print("❌ Continue button failed. Reloading...")
            continue  # Restart from the Book button

        # Move to coordinates and click
        try:
            actions.move_by_offset(1119, 388).click().perform()
            print("✅ Clicked coordinates at (51, 265)")
        except Exception as e:
            undetected_driver.get(url)  # Refresh the page if the click failed at coordinates
            print(f"❌ Error clicking at coordinates: {e}. Reloading...")
            continue  # Restart from the Book button

        # Click Continue button after coordinates click
        if not click_element(undetected_driver, '//*[@id="super-container"]/div/div[2]/div/div[1]/div[3]/div/div[2]/div/div[2]'):
            undetected_driver.refre()  # Refresh the page only if necessary
            print("❌ Final Continue button failed. Reloading...")
            continue  # Restart from the Book button
            
        # Exit condition: If the last click is successful, exit loop
        print("✅ Process completed. Exiting...")
        break

# Main program
def main():
    undetected_options = uc.ChromeOptions()

    # Enable headless mode for faster operation
    undetected_options.add_argument("--disable-gpu")  # To disable GPU acceleration in headless mode
    undetected_options.add_argument("--no-sandbox")  # To avoid errors in certain environments
    
    # Disable images to improve load times
    prefs = {"profile.managed_default_content_settings.images": 2}
    undetected_options.add_experimental_option("prefs", prefs)

    # Make sure ChromeDriver is initialized properly
    undetected_driver = uc.Chrome(options=undetected_options)
    
    url = "https://in.bookmyshow.com/sports/delhi-capitals-vs-gujarat-giants/ET00431311?groupEventCode=ET00431341"
    
    # Run the first part
    first_part(undetected_driver, url)
    
    # Here, you can add your custom condition to trigger the second part
    user_input = input("Press Enter to start the second part of the process (or type 'exit' to quit): ").strip().lower()
    
    if user_input != 'exit':
        # Run the second part based on the user input or your requirement
        second_part(undetected_driver)
    else:
        print("Exiting the process...")

    # Keep the undetected driver running (until you press Enter)
    input("Press Enter to exit undetected-chromedriver...")

if __name__ == "__main__":
    main()
